{
  "cells": [
    {
      "cell_type": "code",
      "source": [
        "!apt-get install git"
      ],
      "metadata": {
        "id": "eG6avC7XTij-",
        "outputId": "d4b2cdb0-ea71-495b-c48c-862cb784658c",
        "colab": {
          "base_uri": "https://localhost:8080/"
        }
      },
      "execution_count": null,
      "outputs": [
        {
          "output_type": "stream",
          "name": "stdout",
          "text": [
            "Reading package lists... Done\n",
            "Building dependency tree... Done\n",
            "Reading state information... Done\n",
            "git is already the newest version (1:2.34.1-1ubuntu1.10).\n",
            "0 upgraded, 0 newly installed, 0 to remove and 45 not upgraded.\n"
          ]
        }
      ]
    },
    {
      "cell_type": "code",
      "source": [
        "!git pull origin main"
      ],
      "metadata": {
        "id": "eDLHToFmX2lH",
        "outputId": "c73094d8-8dc3-4c56-cdc4-57ef92922c6a",
        "colab": {
          "base_uri": "https://localhost:8080/"
        }
      },
      "execution_count": null,
      "outputs": [
        {
          "output_type": "stream",
          "name": "stdout",
          "text": [
            "remote: Enumerating objects: 7, done.\u001b[K\n",
            "remote: Counting objects:  14% (1/7)\u001b[K\rremote: Counting objects:  28% (2/7)\u001b[K\rremote: Counting objects:  42% (3/7)\u001b[K\rremote: Counting objects:  57% (4/7)\u001b[K\rremote: Counting objects:  71% (5/7)\u001b[K\rremote: Counting objects:  85% (6/7)\u001b[K\rremote: Counting objects: 100% (7/7)\u001b[K\rremote: Counting objects: 100% (7/7), done.\u001b[K\n",
            "remote: Compressing objects:  50% (1/2)\u001b[K\rremote: Compressing objects: 100% (2/2)\u001b[K\rremote: Compressing objects: 100% (2/2), done.\u001b[K\n",
            "remote: Total 4 (delta 2), reused 4 (delta 2), pack-reused 0\u001b[K\n",
            "Unpacking objects:  25% (1/4)\rUnpacking objects:  50% (2/4)\rUnpacking objects:  75% (3/4)\rUnpacking objects: 100% (4/4)\rUnpacking objects: 100% (4/4), 422 bytes | 422.00 KiB/s, done.\n",
            "From https://github.com/forgetrelease/yolov_vision\n",
            " * branch            main       -> FETCH_HEAD\n",
            "   97e0726..cd07c3a  main       -> origin/main\n",
            "Updating 97e0726..cd07c3a\n",
            "Fast-forward\n",
            " .gitignore | 1 \u001b[32m+\u001b[m\n",
            " train.py   | 1 \u001b[32m+\u001b[m\n",
            " 2 files changed, 2 insertions(+)\n"
          ]
        }
      ]
    },
    {
      "cell_type": "code",
      "source": [
        "!git clone https://github.com/forgetrelease/yolov_vision.git"
      ],
      "metadata": {
        "id": "94lRmZj_TX-y",
        "outputId": "33f61ae9-1dbe-4c67-de1a-db5449ccebd2",
        "colab": {
          "base_uri": "https://localhost:8080/"
        }
      },
      "execution_count": 2,
      "outputs": [
        {
          "output_type": "stream",
          "name": "stdout",
          "text": [
            "Cloning into 'yolov_vision'...\n",
            "remote: Enumerating objects: 71, done.\u001b[K\n",
            "remote: Counting objects: 100% (71/71), done.\u001b[K\n",
            "remote: Compressing objects: 100% (44/44), done.\u001b[K\n",
            "remote: Total 71 (delta 35), reused 53 (delta 21), pack-reused 0\u001b[K\n",
            "Receiving objects: 100% (71/71), 39.54 KiB | 4.39 MiB/s, done.\n",
            "Resolving deltas: 100% (35/35), done.\n"
          ]
        }
      ]
    },
    {
      "cell_type": "code",
      "execution_count": null,
      "metadata": {
        "colab": {
          "base_uri": "https://localhost:8080/"
        },
        "id": "aIrgth7sqFML",
        "outputId": "37ca40d9-ef75-40a8-e8a7-5c142f524e12"
      },
      "outputs": [
        {
          "output_type": "stream",
          "name": "stdout",
          "text": [
            "Downloading: \"https://download.pytorch.org/models/resnet50-11ad3fa6.pth\" to /root/.cache/torch/hub/checkpoints/resnet50-11ad3fa6.pth\n",
            "100% 97.8M/97.8M [00:00<00:00, 117MB/s]\n",
            "Downloading http://host.robots.ox.ac.uk/pascal/VOC/voc2007/VOCtrainval_06-Nov-2007.tar to ./data/VOCtrainval_06-Nov-2007.tar\n",
            "100% 460032000/460032000 [00:01<00:00, 242599091.51it/s]\n",
            "Extracting ./data/VOCtrainval_06-Nov-2007.tar to ./data\n",
            "Using downloaded and verified file: ./data/VOCtrainval_06-Nov-2007.tar\n",
            "Extracting ./data/VOCtrainval_06-Nov-2007.tar to ./data\n"
          ]
        }
      ],
      "source": [
        "import os\n",
        "\n",
        "os.chdir(\"yolov_vision\")\n",
        "!python train.py\n"
      ]
    },
    {
      "cell_type": "code",
      "source": [
        "from google.colab import drive\n",
        "drive.mount('/content/drive')"
      ],
      "metadata": {
        "id": "CMJKU3S5ywkH",
        "outputId": "67775ac8-4177-4632-9a70-945fe403d134",
        "colab": {
          "base_uri": "https://localhost:8080/"
        }
      },
      "execution_count": 1,
      "outputs": [
        {
          "output_type": "stream",
          "name": "stdout",
          "text": [
            "Mounted at /content/drive\n"
          ]
        }
      ]
    },
    {
      "cell_type": "code",
      "source": [
        "import shutil\n",
        "model = '/content/yolov_vision/best.pth'\n",
        "dst = '/content/drive/My Drive/best.pth'\n",
        "shutil.move(model, dst)"
      ],
      "metadata": {
        "id": "wAellY0JvegC",
        "outputId": "31231ccf-b2ea-41cd-e34e-961068d67c47",
        "colab": {
          "base_uri": "https://localhost:8080/",
          "height": 35
        }
      },
      "execution_count": null,
      "outputs": [
        {
          "output_type": "execute_result",
          "data": {
            "text/plain": [
              "'/content/drive/My Drive/best.pth'"
            ],
            "application/vnd.google.colaboratory.intrinsic+json": {
              "type": "string"
            }
          },
          "metadata": {},
          "execution_count": 26
        }
      ]
    },
    {
      "cell_type": "code",
      "source": [
        "import shutil\n",
        "import os\n",
        "os.mkdir('/content/yolov_vision/data')\n",
        "src1 = '/content/drive/MyDrive/masks.cache'\n",
        "src2 = '/content/drive/MyDrive/images.cache'\n",
        "dist1 = '/content/yolov_vision/data/masks.cache'\n",
        "dist2 = '/content/yolov_vision/data/images.cache'\n",
        "\n",
        "shutil.copytree(src1, dist1)\n",
        "shutil.copytree(src2, dist2)"
      ],
      "metadata": {
        "id": "AHg00z8pSv-i",
        "outputId": "13dafc7f-2de7-4e6b-a1db-7cdd19ce7295",
        "colab": {
          "base_uri": "https://localhost:8080/",
          "height": 35
        }
      },
      "execution_count": 3,
      "outputs": [
        {
          "output_type": "execute_result",
          "data": {
            "text/plain": [
              "'/content/yolov_vision/data/images.cache'"
            ],
            "application/vnd.google.colaboratory.intrinsic+json": {
              "type": "string"
            }
          },
          "metadata": {},
          "execution_count": 3
        }
      ]
    }
  ],
  "metadata": {
    "accelerator": "GPU",
    "colab": {
      "provenance": []
    },
    "gpuClass": "standard",
    "kernelspec": {
      "display_name": "Python 3 (ipykernel)",
      "language": "python",
      "name": "python3"
    },
    "language_info": {
      "codemirror_mode": {
        "name": "ipython",
        "version": 3
      },
      "file_extension": ".py",
      "mimetype": "text/x-python",
      "name": "python",
      "nbconvert_exporter": "python",
      "pygments_lexer": "ipython3",
      "version": "3.9.12"
    },
    "toc": {
      "base_numbering": 1,
      "nav_menu": {},
      "number_sections": true,
      "sideBar": true,
      "skip_h1_title": false,
      "title_cell": "Table of Contents",
      "title_sidebar": "Contents",
      "toc_cell": false,
      "toc_position": {},
      "toc_section_display": true,
      "toc_window_display": false
    }
  },
  "nbformat": 4,
  "nbformat_minor": 0
}